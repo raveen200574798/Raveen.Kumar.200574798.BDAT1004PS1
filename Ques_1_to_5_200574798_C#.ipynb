{
 "cells": [
  {
   "cell_type": "markdown",
   "id": "e1e7bf2d",
   "metadata": {},
   "source": [
    "# Question 1 What data type is each of the following?"
   ]
  },
  {
   "cell_type": "code",
   "execution_count": 1,
   "id": "9425b707",
   "metadata": {},
   "outputs": [
    {
     "data": {
      "text/html": [
       "\r\n",
       "<div>\r\n",
       "    <div id='dotnet-interactive-this-cell-1392.Microsoft.DotNet.Interactive.Http.HttpPort' style='display: none'>\r\n",
       "        The below script needs to be able to find the current output cell; this is an easy method to get it.\r\n",
       "    </div>\r\n",
       "    <script type='text/javascript'>\r\n",
       "async function probeAddresses(probingAddresses) {\r\n",
       "    function timeout(ms, promise) {\r\n",
       "        return new Promise(function (resolve, reject) {\r\n",
       "            setTimeout(function () {\r\n",
       "                reject(new Error('timeout'))\r\n",
       "            }, ms)\r\n",
       "            promise.then(resolve, reject)\r\n",
       "        })\r\n",
       "    }\r\n",
       "\r\n",
       "    if (Array.isArray(probingAddresses)) {\r\n",
       "        for (let i = 0; i < probingAddresses.length; i++) {\r\n",
       "\r\n",
       "            let rootUrl = probingAddresses[i];\r\n",
       "\r\n",
       "            if (!rootUrl.endsWith('/')) {\r\n",
       "                rootUrl = `${rootUrl}/`;\r\n",
       "            }\r\n",
       "\r\n",
       "            try {\r\n",
       "                let response = await timeout(1000, fetch(`${rootUrl}discovery`, {\r\n",
       "                    method: 'POST',\r\n",
       "                    cache: 'no-cache',\r\n",
       "                    mode: 'cors',\r\n",
       "                    timeout: 1000,\r\n",
       "                    headers: {\r\n",
       "                        'Content-Type': 'text/plain'\r\n",
       "                    },\r\n",
       "                    body: probingAddresses[i]\r\n",
       "                }));\r\n",
       "\r\n",
       "                if (response.status == 200) {\r\n",
       "                    return rootUrl;\r\n",
       "                }\r\n",
       "            }\r\n",
       "            catch (e) { }\r\n",
       "        }\r\n",
       "    }\r\n",
       "}\r\n",
       "\r\n",
       "function loadDotnetInteractiveApi() {\r\n",
       "    probeAddresses([\"http://10.0.0.27:2048/\", \"http://127.0.0.1:2048/\"])\r\n",
       "        .then((root) => {\r\n",
       "        // use probing to find host url and api resources\r\n",
       "        // load interactive helpers and language services\r\n",
       "        let dotnetInteractiveRequire = require.config({\r\n",
       "        context: '1392.Microsoft.DotNet.Interactive.Http.HttpPort',\r\n",
       "                paths:\r\n",
       "            {\r\n",
       "                'dotnet-interactive': `${root}resources`\r\n",
       "                }\r\n",
       "        }) || require;\r\n",
       "\r\n",
       "            window.dotnetInteractiveRequire = dotnetInteractiveRequire;\r\n",
       "\r\n",
       "            window.configureRequireFromExtension = function(extensionName, extensionCacheBuster) {\r\n",
       "                let paths = {};\r\n",
       "                paths[extensionName] = `${root}extensions/${extensionName}/resources/`;\r\n",
       "                \r\n",
       "                let internalRequire = require.config({\r\n",
       "                    context: extensionCacheBuster,\r\n",
       "                    paths: paths,\r\n",
       "                    urlArgs: `cacheBuster=${extensionCacheBuster}`\r\n",
       "                    }) || require;\r\n",
       "\r\n",
       "                return internalRequire\r\n",
       "            };\r\n",
       "        \r\n",
       "            dotnetInteractiveRequire([\r\n",
       "                    'dotnet-interactive/dotnet-interactive'\r\n",
       "                ],\r\n",
       "                function (dotnet) {\r\n",
       "                    dotnet.init(window);\r\n",
       "                },\r\n",
       "                function (error) {\r\n",
       "                    console.log(error);\r\n",
       "                }\r\n",
       "            );\r\n",
       "        })\r\n",
       "        .catch(error => {console.log(error);});\r\n",
       "    }\r\n",
       "\r\n",
       "// ensure `require` is available globally\r\n",
       "if ((typeof(require) !==  typeof(Function)) || (typeof(require.config) !== typeof(Function))) {\r\n",
       "    let require_script = document.createElement('script');\r\n",
       "    require_script.setAttribute('src', 'https://cdnjs.cloudflare.com/ajax/libs/require.js/2.3.6/require.min.js');\r\n",
       "    require_script.setAttribute('type', 'text/javascript');\r\n",
       "    \r\n",
       "    \r\n",
       "    require_script.onload = function() {\r\n",
       "        loadDotnetInteractiveApi();\r\n",
       "    };\r\n",
       "\r\n",
       "    document.getElementsByTagName('head')[0].appendChild(require_script);\r\n",
       "}\r\n",
       "else {\r\n",
       "    loadDotnetInteractiveApi();\r\n",
       "}\r\n",
       "\r\n",
       "    </script>\r\n",
       "</div>"
      ]
     },
     "metadata": {},
     "output_type": "display_data"
    },
    {
     "name": "stdout",
     "output_type": "stream",
     "text": [
      "Int32\r\n"
     ]
    }
   ],
   "source": [
    "object z = 5;\n",
    "Console.WriteLine(z.GetType().Name)"
   ]
  },
  {
   "cell_type": "code",
   "execution_count": 2,
   "id": "04cc30c6",
   "metadata": {},
   "outputs": [
    {
     "name": "stdout",
     "output_type": "stream",
     "text": [
      "Double\r\n"
     ]
    }
   ],
   "source": [
    "z = 5.0;\n",
    "Console.WriteLine(z.GetType().Name)"
   ]
  },
  {
   "cell_type": "code",
   "execution_count": 3,
   "id": "c57bb8a8",
   "metadata": {},
   "outputs": [
    {
     "name": "stdout",
     "output_type": "stream",
     "text": [
      "Boolean\r\n"
     ]
    }
   ],
   "source": [
    "z = 5 > 1;\n",
    "Console.WriteLine(z.GetType().Name)"
   ]
  },
  {
   "cell_type": "code",
   "execution_count": 4,
   "id": "98bd054c",
   "metadata": {},
   "outputs": [
    {
     "name": "stdout",
     "output_type": "stream",
     "text": [
      "Char\r\n"
     ]
    }
   ],
   "source": [
    "z = '5';\n",
    "Console.WriteLine(z.GetType().Name)"
   ]
  },
  {
   "cell_type": "code",
   "execution_count": 5,
   "id": "20667770",
   "metadata": {},
   "outputs": [
    {
     "name": "stdout",
     "output_type": "stream",
     "text": [
      "Int32\r\n"
     ]
    }
   ],
   "source": [
    "z = 5*2;\n",
    "Console.WriteLine(z.GetType().Name)"
   ]
  },
  {
   "cell_type": "code",
   "execution_count": 6,
   "id": "b67205e0",
   "metadata": {},
   "outputs": [
    {
     "name": "stdout",
     "output_type": "stream",
     "text": [
      "Int32\r\n"
     ]
    }
   ],
   "source": [
    "z = '5' * 2;\n",
    "Console.WriteLine(z.GetType().Name)"
   ]
  },
  {
   "cell_type": "code",
   "execution_count": 7,
   "id": "7e44b6b8",
   "metadata": {},
   "outputs": [
    {
     "name": "stdout",
     "output_type": "stream",
     "text": [
      "Int32\r\n"
     ]
    }
   ],
   "source": [
    "z = '5' + '2';\n",
    "Console.WriteLine(z.GetType().Name)"
   ]
  },
  {
   "cell_type": "code",
   "execution_count": 8,
   "id": "093f435a",
   "metadata": {},
   "outputs": [
    {
     "name": "stdout",
     "output_type": "stream",
     "text": [
      "Int32\r\n"
     ]
    }
   ],
   "source": [
    "z = 5/2;\n",
    "Console.WriteLine(z.GetType().Name)"
   ]
  },
  {
   "cell_type": "code",
   "execution_count": 9,
   "id": "1e2e46ad",
   "metadata": {},
   "outputs": [
    {
     "name": "stdout",
     "output_type": "stream",
     "text": [
      "Int32\r\n"
     ]
    }
   ],
   "source": [
    "z = 5%2;\n",
    "Console.WriteLine(z.GetType().Name)"
   ]
  },
  {
   "cell_type": "code",
   "execution_count": 10,
   "id": "385feded",
   "metadata": {},
   "outputs": [
    {
     "name": "stdout",
     "output_type": "stream",
     "text": [
      "Int32[]\r\n"
     ]
    }
   ],
   "source": [
    "z =new int[]{5, 2, 1};\n",
    "Console.WriteLine(z.GetType().Name)"
   ]
  },
  {
   "cell_type": "code",
   "execution_count": 11,
   "id": "d3c63c2d",
   "metadata": {},
   "outputs": [
    {
     "name": "stdout",
     "output_type": "stream",
     "text": [
      "Boolean\r\n"
     ]
    }
   ],
   "source": [
    "z = 5==3;\n",
    "Console.WriteLine(z.GetType().Name)"
   ]
  },
  {
   "cell_type": "code",
   "execution_count": 12,
   "id": "ca4472b3",
   "metadata": {},
   "outputs": [
    {
     "name": "stdout",
     "output_type": "stream",
     "text": [
      "Double\r\n"
     ]
    }
   ],
   "source": [
    "z = Math.PI;\n",
    "Console.WriteLine(z.GetType().Name)"
   ]
  },
  {
   "cell_type": "markdown",
   "id": "ef2b608d",
   "metadata": {},
   "source": [
    "# Question 2 Write (and evaluate) C# expressions that answer these questions:\n",
    "a. How many letters are there in 'Supercalifragilisticexpialidocious'?\n",
    "\n",
    "b. Does 'Supercalifragilisticexpialidocious' contain 'ice' as a substring?\n",
    "\n",
    "c. Which of the following words is the longest: \n",
    "Supercalifragilisticexpialidocious, Honorificabilitudinitatibus, or \n",
    "Bababadalgharaghtakamminarronnkonn? \n",
    "\n",
    "d. Which composer comes first in the dictionary: 'Berlioz', 'Borodin', 'Brian', \n",
    "'Bartok', 'Bellini', 'Buxtehude', 'Bernstein'. Which one comes last?\n"
   ]
  },
  {
   "cell_type": "code",
   "execution_count": 13,
   "id": "f5a1dd51",
   "metadata": {},
   "outputs": [
    {
     "name": "stdout",
     "output_type": "stream",
     "text": [
      "The string contanins 34 letters\n",
      "The string contanins Ice ? True\n",
      "The longest word(s) is/are Supercalifragilisticexpialidocious, Bababadalgharaghtakamminarronnkonn\n",
      "First Name in dictionary is Bartok and  Last Name in dictionary is Buxtehude\n"
     ]
    }
   ],
   "source": [
    "string wrd = \"Supercalifragilisticexpialidocious\";\n",
    "//Question 2(a)//\n",
    "int characterCount = wrd.Length; // string length\n",
    "Console.WriteLine(\"The string contanins \" + wrd.Length + \" letters\");\n",
    "\n",
    "//Question 2(b)//\n",
    "bool txt = wrd.Contains(\"ice\"); \n",
    "Console.WriteLine(\"The string contanins Ice ? \" + txt);\n",
    "\n",
    "//Question 2(c)//\n",
    "string wrd1 = \"Supercalifragilisticexpialidocious\";\n",
    "string wrd2 = \"Honorificabilitudinitatibus\";\n",
    "string wrd3 = \"Bababadalgharaghtakamminarronnkonn\";\n",
    "// string length\n",
    "int x = wrd1.Length;\n",
    "int y = wrd2.Length;\n",
    "int z = wrd3.Length;\n",
    "int maxlen = 0;\n",
    "if (x > y && x > z)\n",
    "    {\n",
    "        maxlen = x;\n",
    "    }\n",
    "else if (y > x && y > z)\n",
    "    {\n",
    "        maxlen = y;\n",
    "    }\n",
    "else\n",
    "    {\n",
    "        maxlen = z;\n",
    "    }\n",
    "// Getting Max wrds\n",
    "string maxWrds = \"\";\n",
    "if (x == maxlen)\n",
    "{\n",
    "    maxWrds = maxWrds + (maxWrds.Length != 0 ? \", \" : \"\") + wrd1;\n",
    "}\n",
    "if( y == maxlen )\n",
    "{\n",
    "    maxWrds = maxWrds + (maxWrds.Length != 0 ? \", \" : \"\") + wrd2;\n",
    "}\n",
    "if( z == maxlen )\n",
    "{\n",
    "    maxWrds = maxWrds + (maxWrds.Length != 0 ? \", \" : \"\") + wrd3;\n",
    "}\n",
    "\n",
    "Console.WriteLine(\"The longest word(s) is/are \" + maxWrds);\n",
    "\n",
    "\n",
    "// Question 2(D) //\n",
    "List<string> composers = new List<string> {\"Berlioz\", \"Borodin\", \"Brian\", \"Bartok\", \"Bellini\", \"Buxtehude\", \"Bernstein\"};\n",
    " //sorting the list\n",
    "composers.Sort(); \n",
    "string firstname = composers[0];\n",
    "string lastname = composers[composers.Count - 1];\n",
    "Console.WriteLine(\"First Name in dictionary is \" + firstname + \" and \" + \" Last Name in dictionary is \" + lastname);"
   ]
  },
  {
   "cell_type": "markdown",
   "id": "8f127afc",
   "metadata": {},
   "source": [
    "# Question 3  Implement function triangleArea(a,b,c) that takes as input the lengths of the 3\n",
    "sides of a triangle and returns the area of the triangle. By Heron's formula, the area \n",
    "of a triangle with side lengths a, b, and c is\n",
    "s(s - a)(s -b)(s -c)\n",
    ", where \n",
    "s = (a+b+c)/2."
   ]
  },
  {
   "cell_type": "code",
   "execution_count": 14,
   "id": "fc556068",
   "metadata": {},
   "outputs": [],
   "source": [
    "// creating a math function\n",
    "public static double triangleArea(int a, int b, int c )\n",
    "{\n",
    "    double s = (a + b + c) / 2;\n",
    "    double output = Math.Sqrt(s * (s - a) * (s - b) * (s - c));\n",
    "    return output;\n",
    "}"
   ]
  },
  {
   "cell_type": "code",
   "execution_count": 15,
   "id": "49545ddc",
   "metadata": {},
   "outputs": [
    {
     "data": {
      "text/html": [
       "<div class=\"dni-plaintext\"><pre>1.7320508075688772</pre></div><style>\r\n",
       ".dni-code-hint {\r\n",
       "    font-style: italic;\r\n",
       "    overflow: hidden;\r\n",
       "    white-space: nowrap;\r\n",
       "}\r\n",
       ".dni-treeview {\r\n",
       "    white-space: nowrap;\r\n",
       "}\r\n",
       ".dni-treeview td {\r\n",
       "    vertical-align: top;\r\n",
       "    text-align: start;\r\n",
       "}\r\n",
       "details.dni-treeview {\r\n",
       "    padding-left: 1em;\r\n",
       "}\r\n",
       "table td {\r\n",
       "    text-align: start;\r\n",
       "}\r\n",
       "table tr { \r\n",
       "    vertical-align: top; \r\n",
       "    margin: 0em 0px;\r\n",
       "}\r\n",
       "table tr td pre \r\n",
       "{ \r\n",
       "    vertical-align: top !important; \r\n",
       "    margin: 0em 0px !important;\r\n",
       "} \r\n",
       "table th {\r\n",
       "    text-align: start;\r\n",
       "}\r\n",
       "</style>"
      ]
     },
     "execution_count": 15,
     "metadata": {},
     "output_type": "execute_result"
    }
   ],
   "source": [
    "triangleArea(2,2,2)"
   ]
  },
  {
   "cell_type": "markdown",
   "id": "34260775",
   "metadata": {},
   "source": [
    "# Question 4 Write a program in C# Sharp to separate odd and even integers in separate arrays. \n",
    "Go to the editor\n",
    "Test Data :\n",
    "Input the number of elements to be stored in the array :5\n",
    "Input 5 elements in the array :\n",
    "element - 0 : 25\n",
    "element - 1 : 47\n",
    "element - 2 : 42\n",
    "element - 3 : 56\n",
    "element - 4 : 32\n",
    "Expected Output:\n",
    "The Even elements are:\n",
    "42 56 32\n",
    "The Odd elements are :\n",
    "25 47"
   ]
  },
  {
   "cell_type": "code",
   "execution_count": 16,
   "id": "81d0487f",
   "metadata": {},
   "outputs": [],
   "source": [
    "int[] a = {25, 47, 42, 56, 32};\n",
    "string oddN = \"\";\n",
    "string evenN = \"\";\n",
    "foreach(var i in a){\n",
    "    if(i % 2 == 0)     // Check if the present number is even\n",
    "    {\n",
    "        evenN = evenN + i + \" \" ;\n",
    "    }\n",
    "    else{\n",
    "        oddN = oddN + i + \" \" ;\n",
    "    }\n",
    "}\n"
   ]
  },
  {
   "cell_type": "code",
   "execution_count": 17,
   "id": "0691a153",
   "metadata": {},
   "outputs": [
    {
     "data": {
      "text/plain": [
       "42 56 32 "
      ]
     },
     "execution_count": 17,
     "metadata": {},
     "output_type": "execute_result"
    }
   ],
   "source": [
    "evenN"
   ]
  },
  {
   "cell_type": "code",
   "execution_count": 18,
   "id": "bc1330c6",
   "metadata": {},
   "outputs": [
    {
     "data": {
      "text/plain": [
       "25 47 "
      ]
     },
     "execution_count": 18,
     "metadata": {},
     "output_type": "execute_result"
    }
   ],
   "source": [
    "oddN"
   ]
  },
  {
   "cell_type": "markdown",
   "id": "1a28ff51",
   "metadata": {},
   "source": [
    "# Question 5 a. Write a function inside(x,y,x1,y1,x2,y2) that returns True or False \n",
    "depending on whether the point (x,y) lies in the rectangle with lower left \n",
    "corner (x1,y1) and upper right corner (x2,y2).\n",
    ">>> inside(1,1,0,0,2,3)\n",
    "True\n",
    ">>> inside(-1,-1,0,0,2,3)\n",
    "False\n",
    "b. Use function inside() from part a. to write an expression that tests whether \n",
    "the point (1,1) lies in both of the following rectangles: one with lower left \n",
    "corner (0.3, 0.5) and upper right corner (1.1, 0.7) and the other with lower \n",
    "left corner (0.5, 0.2) and upper right corner (1.1, 2)."
   ]
  },
  {
   "cell_type": "code",
   "execution_count": 19,
   "id": "bbd1d4cf",
   "metadata": {},
   "outputs": [],
   "source": [
    "public static bool inside(float x, float y, float x1, float y1, float x2, float y2){\n",
    "   // Checking if the point (x, y) is inside the rectangle\n",
    "    if(x > x1 && x< x2 )\n",
    "    {\n",
    "        if(y> y1 && y < y2)\n",
    "        {\n",
    "            return true;\n",
    "        }\n",
    "    }\n",
    "    return false;\n",
    "}"
   ]
  },
  {
   "cell_type": "code",
   "execution_count": 20,
   "id": "c40871ad",
   "metadata": {},
   "outputs": [
    {
     "data": {
      "text/html": [
       "<div class=\"dni-plaintext\"><pre>True</pre></div><style>\r\n",
       ".dni-code-hint {\r\n",
       "    font-style: italic;\r\n",
       "    overflow: hidden;\r\n",
       "    white-space: nowrap;\r\n",
       "}\r\n",
       ".dni-treeview {\r\n",
       "    white-space: nowrap;\r\n",
       "}\r\n",
       ".dni-treeview td {\r\n",
       "    vertical-align: top;\r\n",
       "    text-align: start;\r\n",
       "}\r\n",
       "details.dni-treeview {\r\n",
       "    padding-left: 1em;\r\n",
       "}\r\n",
       "table td {\r\n",
       "    text-align: start;\r\n",
       "}\r\n",
       "table tr { \r\n",
       "    vertical-align: top; \r\n",
       "    margin: 0em 0px;\r\n",
       "}\r\n",
       "table tr td pre \r\n",
       "{ \r\n",
       "    vertical-align: top !important; \r\n",
       "    margin: 0em 0px !important;\r\n",
       "} \r\n",
       "table th {\r\n",
       "    text-align: start;\r\n",
       "}\r\n",
       "</style>"
      ]
     },
     "execution_count": 20,
     "metadata": {},
     "output_type": "execute_result"
    }
   ],
   "source": [
    "inside(1,1,0,0,2,3)"
   ]
  },
  {
   "cell_type": "code",
   "execution_count": 21,
   "id": "0ff93ae4",
   "metadata": {},
   "outputs": [
    {
     "data": {
      "text/html": [
       "<div class=\"dni-plaintext\"><pre>False</pre></div><style>\r\n",
       ".dni-code-hint {\r\n",
       "    font-style: italic;\r\n",
       "    overflow: hidden;\r\n",
       "    white-space: nowrap;\r\n",
       "}\r\n",
       ".dni-treeview {\r\n",
       "    white-space: nowrap;\r\n",
       "}\r\n",
       ".dni-treeview td {\r\n",
       "    vertical-align: top;\r\n",
       "    text-align: start;\r\n",
       "}\r\n",
       "details.dni-treeview {\r\n",
       "    padding-left: 1em;\r\n",
       "}\r\n",
       "table td {\r\n",
       "    text-align: start;\r\n",
       "}\r\n",
       "table tr { \r\n",
       "    vertical-align: top; \r\n",
       "    margin: 0em 0px;\r\n",
       "}\r\n",
       "table tr td pre \r\n",
       "{ \r\n",
       "    vertical-align: top !important; \r\n",
       "    margin: 0em 0px !important;\r\n",
       "} \r\n",
       "table th {\r\n",
       "    text-align: start;\r\n",
       "}\r\n",
       "</style>"
      ]
     },
     "execution_count": 21,
     "metadata": {},
     "output_type": "execute_result"
    }
   ],
   "source": [
    "inside(-1,-1,0,0,2,3)"
   ]
  },
  {
   "cell_type": "code",
   "execution_count": null,
   "id": "5d159994",
   "metadata": {},
   "outputs": [],
   "source": []
  }
 ],
 "metadata": {
  "kernelspec": {
   "display_name": ".NET (C#)",
   "language": "C#",
   "name": ".net-csharp"
  },
  "language_info": {
   "file_extension": ".cs",
   "mimetype": "text/x-csharp",
   "name": "C#",
   "pygments_lexer": "csharp",
   "version": "11.0"
  }
 },
 "nbformat": 4,
 "nbformat_minor": 5
}
